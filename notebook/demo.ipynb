{
 "cells": [
  {
   "cell_type": "code",
   "execution_count": 5,
   "metadata": {
    "collapsed": false
   },
   "outputs": [],
   "source": [
    "%autoreload 2\n",
    "from pymcts.uct import UCTNode\n",
    "from pymcts.game.trivial import TrivialState\n",
    "from pymcts.game.tic_tac_toe import TicTacToeState"
   ]
  },
  {
   "cell_type": "code",
   "execution_count": 19,
   "metadata": {
    "collapsed": false
   },
   "outputs": [
    {
     "data": {
      "text/plain": [
       "UCTNode(M: None, P1, Wins/Visits: 94.0/100.0, # Untried: 0, [\n",
       "    UCTNode(M: 2, P1, Wins/Visits: 0.0/6.0, # Untried: 0),\n",
       "    UCTNode(M: 1, P1, Wins/Visits: 94.0/94.0, # Untried: 0)\n",
       "])"
      ]
     },
     "execution_count": 19,
     "metadata": {},
     "output_type": "execute_result"
    }
   ],
   "source": [
    "win_state = TrivialState()\n",
    "loss_state = TrivialState(result={1: 0})\n",
    "root_state = TrivialState(result=None, moves={1: win_state, 2: loss_state})\n",
    "\n",
    "root = UCTNode(root_state)\n",
    "for _ in range(100):\n",
    "    root.mc_round()\n",
    "\n",
    "root"
   ]
  },
  {
   "cell_type": "markdown",
   "metadata": {},
   "source": [
    "Above we see a trivial two-stage game where Player 1 always 'wins' following taking move 1, and always loses after taking move 2.\n",
    "\n",
    "We then set up a UCT tree and run some iterations. One consequence of the UCT algorithm here is that an always-losing node will get revisited with exponentially declining frequency as the number of iterations increase. This shows that UCT focuses its visits (during the 'selection' part of MCTS) on subtrees that perform well, and hence searches deeper into parts of the game tree that see stronger play."
   ]
  },
  {
   "cell_type": "code",
   "execution_count": 15,
   "metadata": {
    "collapsed": false
   },
   "outputs": [
    {
     "data": {
      "text/plain": [
       "0.422095"
      ]
     },
     "execution_count": 15,
     "metadata": {},
     "output_type": "execute_result"
    }
   ],
   "source": [
    "s = TicTacToeState()\n",
    "\n",
    "root = UCTNode(s)\n",
    "for _ in range(int(1E5)):\n",
    "    root.mc_round()\n",
    "root.wins / root.visits"
   ]
  },
  {
   "cell_type": "markdown",
   "metadata": {},
   "source": [
    "Here we repeat the exercise with Tic Tac Toe. We know that perfect play always results in a tie (score = 0.5); in general, UCB scores should underestimate the true value of a node and converge from below as the number of iterations rises."
   ]
  },
  {
   "cell_type": "code",
   "execution_count": 9,
   "metadata": {
    "collapsed": false
   },
   "outputs": [
    {
     "data": {
      "text/plain": [
       "(1, 1)"
      ]
     },
     "execution_count": 9,
     "metadata": {},
     "output_type": "execute_result"
    }
   ],
   "source": [
    "root.best_move()"
   ]
  },
  {
   "cell_type": "markdown",
   "metadata": {},
   "source": [
    "As expected, this tree identifies that the best move for the first player is to go in the center."
   ]
  }
 ],
 "metadata": {
  "kernelspec": {
   "display_name": "Python 3",
   "language": "python",
   "name": "python3"
  },
  "language_info": {
   "codemirror_mode": {
    "name": "ipython",
    "version": 3
   },
   "file_extension": ".py",
   "mimetype": "text/x-python",
   "name": "python",
   "nbconvert_exporter": "python",
   "pygments_lexer": "ipython3",
   "version": "3.5.1"
  }
 },
 "nbformat": 4,
 "nbformat_minor": 0
}
