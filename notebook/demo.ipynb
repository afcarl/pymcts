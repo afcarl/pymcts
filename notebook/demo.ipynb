{
 "cells": [
  {
   "cell_type": "code",
   "execution_count": 8,
   "metadata": {
    "collapsed": false
   },
   "outputs": [],
   "source": [
    "%autoreload 2\n",
    "from pymcts.uct import UCTNode\n",
    "from pymcts.game.trivial import TrivialState"
   ]
  },
  {
   "cell_type": "code",
   "execution_count": 11,
   "metadata": {
    "collapsed": false
   },
   "outputs": [
    {
     "data": {
      "text/plain": [
       "UCTNode([1, 2], [\n",
       "    UCTNode({1: 1.0}),\n",
       "    UCTNode({1: 0})\n",
       "])"
      ]
     },
     "execution_count": 11,
     "metadata": {},
     "output_type": "execute_result"
    }
   ],
   "source": [
    "win_state = TrivialState()\n",
    "loss_state = TrivialState(result={1: 0})\n",
    "root_state = TrivialState(result=None, moves={1: win_state, 2: loss_state})\n",
    "\n",
    "root = UCTNode(root_state)\n",
    "for _ in range(3):\n",
    "    root.mc_round()\n",
    "root"
   ]
  }
 ],
 "metadata": {
  "kernelspec": {
   "display_name": "Python 3",
   "language": "python",
   "name": "python3"
  },
  "language_info": {
   "codemirror_mode": {
    "name": "ipython",
    "version": 3
   },
   "file_extension": ".py",
   "mimetype": "text/x-python",
   "name": "python",
   "nbconvert_exporter": "python",
   "pygments_lexer": "ipython3",
   "version": "3.5.1"
  }
 },
 "nbformat": 4,
 "nbformat_minor": 0
}
